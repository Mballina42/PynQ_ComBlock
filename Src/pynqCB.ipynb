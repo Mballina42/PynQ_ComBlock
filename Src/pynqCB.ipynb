{
 "cells": [
  {
   "cell_type": "markdown",
   "id": "ea194151",
   "metadata": {},
   "source": [
    "# Example of Using ComBlock with Pynq\n",
    "\n",
    "For convenience, the *comblock.py* Python script is established which contains useful constants for interacting with the ComBlock."
   ]
  },
  {
   "cell_type": "code",
   "execution_count": 1,
   "id": "cf5cf1de",
   "metadata": {},
   "outputs": [],
   "source": [
    "from pynq import Overlay\n",
    "from pynq import MMIO\n",
    "import comblock as cbc"
   ]
  },
  {
   "cell_type": "code",
   "execution_count": null,
   "id": "f4d848c6",
   "metadata": {},
   "outputs": [],
   "source": [
    "# Load the overlay (bitstream) onto the FPGA. In the Overlays folder, you can choose if you are using a Z1 or Z2 Pynq board.\n",
    "base = Overlay(\"pynq_z1_comblock.bit\")"
   ]
  },
  {
   "cell_type": "markdown",
   "id": "afd720e5",
   "metadata": {},
   "source": [
    "The information from the **comblock_0** block is read to verify everything that is obtained. Since the object is mapped to AXI Lite, it is noted that the AXI Full address is omitted."
   ]
  },
  {
   "cell_type": "code",
   "execution_count": 6,
   "id": "6cefd5f6",
   "metadata": {
    "scrolled": true
   },
   "outputs": [
    {
     "data": {
      "application/json": {
       "addr_range": 262144,
       "bdtype": null,
       "device": "<pynq.pl_server.embedded_device.EmbeddedDevice object at 0xb389a7f0>",
       "driver": "<class 'pynq.overlay.DefaultIP'>",
       "fullpath": "comblock_0",
       "gpio": {},
       "interrupts": {},
       "mem_id": "AXIF",
       "memtype": "REGISTER",
       "parameters": {
        "ADDR_WIDTH": "8",
        "ARUSER_WIDTH": "0",
        "AWUSER_WIDTH": "0",
        "BUSER_WIDTH": "0",
        "CLK_DOMAIN": "pynqCB_processing_system7_0_0_FCLK_CLK0",
        "C_AXIF_ARUSER_WIDTH": "0",
        "C_AXIF_AWUSER_WIDTH": "0",
        "C_AXIF_BASEADDR": "0x43C40000",
        "C_AXIF_BUSER_WIDTH": "0",
        "C_AXIF_HIGHADDR": "0x43C7FFFF",
        "C_AXIF_ID_WIDTH": "12",
        "C_AXIF_RUSER_WIDTH": "0",
        "C_AXIF_WUSER_WIDTH": "0",
        "C_AXIL_BASEADDR": "0x43C00000",
        "C_AXIL_HIGHADDR": "0x43C0FFFF",
        "Component_Name": "pynqCB_comblock_0_0",
        "DATA_WIDTH": "32",
        "DRAM_IO_AWIDTH": "16",
        "DRAM_IO_DEPTH": "0",
        "DRAM_IO_DWIDTH": "16",
        "DRAM_IO_ENA": "true",
        "EDK_IPTYPE": "PERIPHERAL",
        "FIFO_IN_AEOFFSET": "1",
        "FIFO_IN_AFOFFSET": "1",
        "FIFO_IN_DEPTH": "1024",
        "FIFO_IN_DWIDTH": "16",
        "FIFO_IN_ENA": "true",
        "FIFO_OUT_AEOFFSET": "1",
        "FIFO_OUT_AFOFFSET": "1",
        "FIFO_OUT_DEPTH": "1024",
        "FIFO_OUT_DWIDTH": "16",
        "FIFO_OUT_ENA": "false",
        "FREQ_HZ": "100000000",
        "HAS_BRESP": "1",
        "HAS_BURST": "0",
        "HAS_CACHE": "0",
        "HAS_LOCK": "0",
        "HAS_PROT": "1",
        "HAS_QOS": "0",
        "HAS_REGION": "0",
        "HAS_RRESP": "1",
        "HAS_WSTRB": "1",
        "ID_WIDTH": "0",
        "INSERT_VIP": "0",
        "MAX_BURST_LENGTH": "1",
        "NUM_READ_OUTSTANDING": "8",
        "NUM_READ_THREADS": "1",
        "NUM_WRITE_OUTSTANDING": "8",
        "NUM_WRITE_THREADS": "1",
        "PHASE": "0.0",
        "PROTOCOL": "AXI4LITE",
        "READ_WRITE_MODE": "READ_WRITE",
        "REGS_IN_DEPTH": "4",
        "REGS_IN_DWIDTH": "32",
        "REGS_IN_ENA": "true",
        "REGS_OUT_DEPTH": "4",
        "REGS_OUT_DWIDTH": "32",
        "REGS_OUT_ENA": "true",
        "RUSER_BITS_PER_BYTE": "0",
        "RUSER_WIDTH": "0",
        "SUPPORTS_NARROW_BURST": "0",
        "WUSER_BITS_PER_BYTE": "0",
        "WUSER_WIDTH": "0"
       },
       "phys_addr": 1136918528,
       "registers": {},
       "state": null,
       "type": "www.ictp.it:user:comblock:2.0"
      },
      "text/plain": [
       "{'type': 'www.ictp.it:user:comblock:2.0',\n",
       " 'mem_id': 'AXIF',\n",
       " 'memtype': 'REGISTER',\n",
       " 'gpio': {},\n",
       " 'interrupts': {},\n",
       " 'parameters': {'REGS_IN_ENA': 'true',\n",
       "  'REGS_IN_DWIDTH': '32',\n",
       "  'REGS_IN_DEPTH': '4',\n",
       "  'REGS_OUT_ENA': 'true',\n",
       "  'REGS_OUT_DWIDTH': '32',\n",
       "  'REGS_OUT_DEPTH': '4',\n",
       "  'DRAM_IO_ENA': 'true',\n",
       "  'DRAM_IO_DWIDTH': '16',\n",
       "  'DRAM_IO_AWIDTH': '16',\n",
       "  'DRAM_IO_DEPTH': '0',\n",
       "  'FIFO_IN_ENA': 'true',\n",
       "  'FIFO_IN_DWIDTH': '16',\n",
       "  'FIFO_IN_DEPTH': '1024',\n",
       "  'FIFO_IN_AFOFFSET': '1',\n",
       "  'FIFO_IN_AEOFFSET': '1',\n",
       "  'FIFO_OUT_ENA': 'false',\n",
       "  'FIFO_OUT_DWIDTH': '16',\n",
       "  'FIFO_OUT_DEPTH': '1024',\n",
       "  'FIFO_OUT_AFOFFSET': '1',\n",
       "  'FIFO_OUT_AEOFFSET': '1',\n",
       "  'C_AXIF_ID_WIDTH': '12',\n",
       "  'C_AXIF_AWUSER_WIDTH': '0',\n",
       "  'C_AXIF_ARUSER_WIDTH': '0',\n",
       "  'C_AXIF_WUSER_WIDTH': '0',\n",
       "  'C_AXIF_RUSER_WIDTH': '0',\n",
       "  'C_AXIF_BUSER_WIDTH': '0',\n",
       "  'Component_Name': 'pynqCB_comblock_0_0',\n",
       "  'EDK_IPTYPE': 'PERIPHERAL',\n",
       "  'C_AXIL_BASEADDR': '0x43C00000',\n",
       "  'C_AXIL_HIGHADDR': '0x43C0FFFF',\n",
       "  'C_AXIF_BASEADDR': '0x43C40000',\n",
       "  'C_AXIF_HIGHADDR': '0x43C7FFFF',\n",
       "  'DATA_WIDTH': '32',\n",
       "  'PROTOCOL': 'AXI4LITE',\n",
       "  'FREQ_HZ': '100000000',\n",
       "  'ID_WIDTH': '0',\n",
       "  'ADDR_WIDTH': '8',\n",
       "  'AWUSER_WIDTH': '0',\n",
       "  'ARUSER_WIDTH': '0',\n",
       "  'WUSER_WIDTH': '0',\n",
       "  'RUSER_WIDTH': '0',\n",
       "  'BUSER_WIDTH': '0',\n",
       "  'READ_WRITE_MODE': 'READ_WRITE',\n",
       "  'HAS_BURST': '0',\n",
       "  'HAS_LOCK': '0',\n",
       "  'HAS_PROT': '1',\n",
       "  'HAS_CACHE': '0',\n",
       "  'HAS_QOS': '0',\n",
       "  'HAS_REGION': '0',\n",
       "  'HAS_WSTRB': '1',\n",
       "  'HAS_BRESP': '1',\n",
       "  'HAS_RRESP': '1',\n",
       "  'SUPPORTS_NARROW_BURST': '0',\n",
       "  'NUM_READ_OUTSTANDING': '8',\n",
       "  'NUM_WRITE_OUTSTANDING': '8',\n",
       "  'MAX_BURST_LENGTH': '1',\n",
       "  'PHASE': '0.0',\n",
       "  'CLK_DOMAIN': 'pynqCB_processing_system7_0_0_FCLK_CLK0',\n",
       "  'NUM_READ_THREADS': '1',\n",
       "  'NUM_WRITE_THREADS': '1',\n",
       "  'RUSER_BITS_PER_BYTE': '0',\n",
       "  'WUSER_BITS_PER_BYTE': '0',\n",
       "  'INSERT_VIP': '0'},\n",
       " 'registers': {},\n",
       " 'driver': pynq.overlay.DefaultIP,\n",
       " 'device': <pynq.pl_server.embedded_device.EmbeddedDevice at 0xb389a7f0>,\n",
       " 'state': None,\n",
       " 'bdtype': None,\n",
       " 'phys_addr': 1136918528,\n",
       " 'addr_range': 262144,\n",
       " 'fullpath': 'comblock_0'}"
      ]
     },
     "execution_count": 6,
     "metadata": {
      "application/json": {
       "expanded": false,
       "root": "comblock_0"
      }
     },
     "output_type": "execute_result"
    }
   ],
   "source": [
    "base.ip_dict['comblock_0']"
   ]
  },
  {
   "cell_type": "code",
   "execution_count": 7,
   "id": "58653094",
   "metadata": {},
   "outputs": [],
   "source": [
    "# The object is created based on the comblock_0 IP\n",
    "cb = base.comblock_0"
   ]
  },
  {
   "cell_type": "markdown",
   "id": "5f3bcf56",
   "metadata": {},
   "source": [
    "## Interacting with basic elements of ComBlock (I/O Reginsters, RAM, FIFO)"
   ]
  },
  {
   "cell_type": "markdown",
   "id": "758c3073",
   "metadata": {},
   "source": [
    "### Read and write registers"
   ]
  },
  {
   "cell_type": "code",
   "execution_count": 32,
   "id": "cb9a8225",
   "metadata": {},
   "outputs": [
    {
     "data": {
      "text/plain": [
       "20"
      ]
     },
     "execution_count": 32,
     "metadata": {},
     "output_type": "execute_result"
    }
   ],
   "source": [
    "#write and read registers\n",
    "#cd.write(register, data)\n",
    "cb.write(cbc.OREG0,20)\n",
    "#cd.read(register)\n",
    "cb.read(cbc.IREG0)"
   ]
  },
  {
   "cell_type": "code",
   "execution_count": null,
   "id": "ca248786",
   "metadata": {},
   "outputs": [],
   "source": [
    "#write and read registers with xor (example design)\n",
    "#cd.write(register, data)\n",
    "cb.write(cbc.OREG1,20)\n",
    "#cd.read(register)\n",
    "cb.read(cbc.IREG1)"
   ]
  },
  {
   "cell_type": "code",
   "execution_count": 33,
   "id": "6225f4e5",
   "metadata": {},
   "outputs": [
    {
     "data": {
      "text/plain": [
       "0"
      ]
     },
     "execution_count": 33,
     "metadata": {},
     "output_type": "execute_result"
    }
   ],
   "source": [
    "#read push buttons and slide switches, all the buttons btn and sw are as follows: MSB(bnt3, bnt2, bnt1, btn0, sw1, sw0)LSB\n",
    "cb.read(cbc.IREG2)"
   ]
  },
  {
   "cell_type": "code",
   "execution_count": 34,
   "id": "cb6b9e2b",
   "metadata": {},
   "outputs": [],
   "source": [
    "#write leds (1 led0, 2 led1, 4 led2, 8 led3)\n",
    "cb.write(cbc.OREG2,0)"
   ]
  },
  {
   "cell_type": "code",
   "execution_count": null,
   "id": "1f22317c",
   "metadata": {},
   "outputs": [],
   "source": [
    "#write leds rgb  (1 blue led4, 2 green led4, 4, red led4, 8 blue led5, 16 green led5, 32 red led5)\n",
    "cb.write(cbc.OREG3,32)"
   ]
  },
  {
   "cell_type": "markdown",
   "id": "589b94b8",
   "metadata": {},
   "source": [
    "### Read FIFO"
   ]
  },
  {
   "cell_type": "code",
   "execution_count": 35,
   "id": "6e95196a",
   "metadata": {},
   "outputs": [
    {
     "name": "stdout",
     "output_type": "stream",
     "text": [
      "1024\n",
      "[0, 1, 2, 3, 4, 5, 6, 7, 8, 9]\n"
     ]
    }
   ],
   "source": [
    "# From the ComBlock IP, it is possible to obtain its parameters and define them as variables.\n",
    "FIFO_DEPTH = int(base.ip_dict['comblock_0']['parameters']['FIFO_OUT_DEPTH'])\n",
    "print(FIFO_DEPTH)\n",
    "valor = []\n",
    "for i in range(10):\n",
    "    val = cb.read(cbc.IFIFO_VALUE)\n",
    "    valor.append(val)\n",
    "    \n",
    "print(valor)"
   ]
  },
  {
   "cell_type": "markdown",
   "id": "df5f97b7",
   "metadata": {},
   "source": [
    "### Read RAM"
   ]
  },
  {
   "cell_type": "code",
   "execution_count": 36,
   "id": "69eedc25",
   "metadata": {
    "scrolled": true
   },
   "outputs": [
    {
     "name": "stdout",
     "output_type": "stream",
     "text": [
      "0\n",
      "1\n",
      "2\n",
      "3\n",
      "4\n",
      "5\n",
      "6\n",
      "7\n",
      "8\n",
      "9\n",
      "10\n",
      "11\n",
      "12\n",
      "13\n",
      "14\n",
      "15\n"
     ]
    }
   ],
   "source": [
    "# The width of the addresses and data is defined.\n",
    "RAM_ADDR_WIDTH = int(base.ip_dict['comblock_0']['parameters']['DRAM_IO_AWIDTH'])\n",
    "RAM_DATA_WIDTH = int(base.ip_dict['comblock_0']['parameters']['DRAM_IO_DWIDTH'])\n",
    "# From the block design in Vivado, the base address of AXI Full is obtained, which is where the ComBlock manages the RAM.\n",
    "RAM_BASE_ADDR = int(base.ip_dict['comblock_0']['parameters']['C_AXIF_BASEADDR'],16)\n",
    "# The object is created based on the MMIO class, which requires the base address and its width.\n",
    "# To read in multiples of 4, you must multiply by 4\n",
    "cbRam = MMIO(RAM_BASE_ADDR, RAM_ADDR_WIDTH*4)\n",
    "\n",
    "# Finally, a loop is performed for each memory address that needs to be accessed, ensuring they are multiples of 4. Additionally, the function is enhanced to specify the data width, since reading bytes involves dividing the MMIO limit by 4.\n",
    "for i in range(RAM_DATA_WIDTH):\n",
    "    print(cbRam.read(i*4,RAM_DATA_WIDTH//4))"
   ]
  }
 ],
 "metadata": {
  "kernelspec": {
   "display_name": "Python 3 (ipykernel)",
   "language": "python",
   "name": "python3"
  },
  "language_info": {
   "codemirror_mode": {
    "name": "ipython",
    "version": 3
   },
   "file_extension": ".py",
   "mimetype": "text/x-python",
   "name": "python",
   "nbconvert_exporter": "python",
   "pygments_lexer": "ipython3",
   "version": "3.11.8"
  }
 },
 "nbformat": 4,
 "nbformat_minor": 5
}
